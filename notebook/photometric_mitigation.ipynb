{
 "cells": [
  {
   "cell_type": "markdown",
   "metadata": {},
   "source": [
    "# Imaging systematic mitigation: the QSO case\n",
    "\n",
    "**author:** Edmond Chaussidon (CEA Saclay)\n",
    "\n",
    "**mail:** edmond.chaussidon@cea.fr\n",
    "\n"
   ]
  },
  {
   "cell_type": "code",
   "execution_count": 1,
   "metadata": {},
   "outputs": [],
   "source": [
    "import os\n",
    "import logging\n",
    "\n",
    "import numpy as np\n",
    "\n",
    "from regressis import PhotometricDataFrame, Regressor, DR9Footprint, setup_logging"
   ]
  },
  {
   "cell_type": "code",
   "execution_count": 3,
   "metadata": {},
   "outputs": [],
   "source": [
    "logger = logging.getLogger('Notebook')\n",
    "setup_logging()"
   ]
  },
  {
   "cell_type": "code",
   "execution_count": 5,
   "metadata": {},
   "outputs": [
    {
     "ename": "NameError",
     "evalue": "name '__file__' is not defined",
     "output_type": "error",
     "traceback": [
      "\u001b[0;31m---------------------------------------------------------------------------\u001b[0m",
      "\u001b[0;31mNameError\u001b[0m                                 Traceback (most recent call last)",
      "\u001b[0;32m<ipython-input-5-358d5687b810>\u001b[0m in \u001b[0;36m<module>\u001b[0;34m\u001b[0m\n\u001b[0;32m----> 1\u001b[0;31m \u001b[0m__file__\u001b[0m\u001b[0;34m\u001b[0m\u001b[0;34m\u001b[0m\u001b[0m\n\u001b[0m",
      "\u001b[0;31mNameError\u001b[0m: name '__file__' is not defined"
     ]
    }
   ],
   "source": []
  },
  {
   "cell_type": "code",
   "execution_count": 10,
   "metadata": {},
   "outputs": [
    {
     "name": "stdout",
     "output_type": "stream",
     "text": [
      "[000248.74] 22-01-03 15:04  Footprint            INFO     Load DR9 footprint with mask_lmc=True, clear_south=True, mask_around_des=True and desi_cut=False\n",
      "[000248.78] 22-01-03 15:04  DataFrame            INFO     version: SV3 -- tracer: QSO -- region: ['North', 'South', 'Des']\n",
      "[000248.79] 22-01-03 15:04  DataFrame            INFO     Read ../regressis/tests/test_case_qso/pixweight-dr9-256.fits.\n",
      "[000249.17] 22-01-03 15:04  DataFrame            INFO     Read ../regressis/tests/test_case_qso/sagittarius_stream_256.npy\n",
      "[000249.23] 22-01-03 15:04  DataFrame            INFO     Sanity check: number of NaNs in features: 0\n",
      " \n",
      "[000249.23] 22-01-03 15:04  DataFrame            INFO     Read ../regressis/tests/test_case_qso/SV3_QSO_256.npy\n",
      "[000249.24] 22-01-03 15:04  DataFrame            INFO     Do not find corresponding fracarea map --> use FRACAREA_12290 as default fracarea\n",
      "[000249.24] 22-01-03 15:04  DataFrame            INFO     Read ../regressis/tests/test_case_qso/pixweight-dr9-256.fits\n",
      " \n",
      "[000250.12] 22-01-03 15:04  DataFrame            INFO     The considered footprint represents 100.00% of the DR9 footprint\n",
      "[000250.12] 22-01-03 15:04  DataFrame            INFO     They are 9069 pixels which will be not used for the training i.e. 2.47% ot the considered footprint\n",
      "[000251.37] 22-01-03 15:04  Footprint            INFO     Use (R.A., Dec.) box: [120, 240, 32.2, 40] to compute mean density\n",
      "[000251.44] 22-01-03 15:04  DataFrame            INFO       ** North: 16.02 -- 1.0000 -- 1.0623\n",
      "[000252.75] 22-01-03 15:04  Footprint            INFO     Use (R.A., Dec.) box: [120, 240, 24, 32.2] to compute mean density\n",
      "[000252.82] 22-01-03 15:04  DataFrame            INFO       ** South: 16.08 -- 1.0000 -- 1.0301\n",
      "[000254.17] 22-01-03 15:04  Footprint            INFO     No specific area is used to compute mean density\n",
      "[000254.18] 22-01-03 15:04  DataFrame            INFO       ** Des: 15.32 -- 1.0000 -- 1.0000\n",
      " \n"
     ]
    }
   ],
   "source": [
    "version, tracer, suffix_tracer = 'SV3', 'QSO', ''\n",
    "dr9_footprint = DR9Footprint(256, mask_lmc=True, clear_south=True, mask_around_des=True, desi_cut=False)\n",
    "\n",
    "param = dict()\n",
    "param['data_dir'] = '../regressis/tests/test_case_qso'\n",
    "param['output_dir'] = None\n",
    "param['use_median'] = False\n",
    "param['use_new_norm'] = True\n",
    "param['region'] = ['North', 'South', 'Des']\n",
    "\n",
    "dataframe = PhotometricDataFrame(version, tracer, dr9_footprint, suffix_tracer, **param)\n",
    "dataframe.set_features()\n",
    "print(\" \")\n",
    "\n",
    "dataframe.set_targets()\n",
    "print(\" \")\n",
    "\n",
    "dataframe.build(selection_on_fracarea=True)\n",
    "print(\" \")"
   ]
  },
  {
   "cell_type": "code",
   "execution_count": 12,
   "metadata": {},
   "outputs": [
    {
     "name": "stdout",
     "output_type": "stream",
     "text": [
      "[000293.93] 22-01-03 15:05  Regressor            INFO     We use the set: ['STARDENS', 'EBV', 'STREAM', 'PSFDEPTH_G', 'PSFDEPTH_R', 'PSFDEPTH_Z', 'PSFDEPTH_W1', 'PSFDEPTH_W2', 'PSFSIZE_G', 'PSFSIZE_R', 'PSFSIZE_Z']\n",
      "[000293.93] 22-01-03 15:05  root                 WARNING  do not use kfold training --> TAKE CARE\n",
      " \n",
      "[000295.17] 22-01-03 15:05  Regressor            INFO       ** North :\n",
      "[000295.22] 22-01-03 15:05  Regressor            INFO         --> Sample size North: 96329 -- Total Sample Size: 358139 -- Training Fraction: 26.90%\n",
      "[000295.23] 22-01-03 15:05  Regressor            INFO         --> use Kfold training ? False\n",
      "[000295.23] 22-01-03 15:05  Regressor            INFO         --> Engine: LINEAR with params: {}\n",
      "[000295.23] 22-01-03 15:05  Regressor            INFO               --> We normalize and center all features (except the STREAM) on the training footprint\n",
      "[000295.37] 22-01-03 15:05  Regressor            INFO               --> Mean of Mean and Std on the fold-training features : 0.0000 -- 1.00\n",
      "[000295.37] 22-01-03 15:05  Regressor            INFO               --> The training is done with sample_weight=1/np.sqrt(Y_train)\n"
     ]
    },
    {
     "ename": "NameError",
     "evalue": "name 'F' is not defined",
     "output_type": "error",
     "traceback": [
      "\u001b[0;31m---------------------------------------------------------------------------\u001b[0m",
      "\u001b[0;31mNameError\u001b[0m                                 Traceback (most recent call last)",
      "\u001b[0;32m<ipython-input-12-39da5da9807c>\u001b[0m in \u001b[0;36m<module>\u001b[0;34m\u001b[0m\n\u001b[1;32m      2\u001b[0m \u001b[0mprint\u001b[0m\u001b[0;34m(\u001b[0m\u001b[0;34m\" \"\u001b[0m\u001b[0;34m)\u001b[0m\u001b[0;34m\u001b[0m\u001b[0;34m\u001b[0m\u001b[0m\n\u001b[1;32m      3\u001b[0m \u001b[0;34m\u001b[0m\u001b[0m\n\u001b[0;32m----> 4\u001b[0;31m \u001b[0mregressor\u001b[0m\u001b[0;34m.\u001b[0m\u001b[0mmake_regression\u001b[0m\u001b[0;34m(\u001b[0m\u001b[0;34m)\u001b[0m\u001b[0;34m\u001b[0m\u001b[0;34m\u001b[0m\u001b[0m\n\u001b[0m\u001b[1;32m      5\u001b[0m \u001b[0mprint\u001b[0m\u001b[0;34m(\u001b[0m\u001b[0;34m\" \"\u001b[0m\u001b[0;34m)\u001b[0m\u001b[0;34m\u001b[0m\u001b[0;34m\u001b[0m\u001b[0m\n\u001b[1;32m      6\u001b[0m \u001b[0;34m\u001b[0m\u001b[0m\n",
      "\u001b[0;32m~/Documents/CEA/Software/regressis/regressis/regressor.py\u001b[0m in \u001b[0;36mmake_regression\u001b[0;34m(self)\u001b[0m\n\u001b[1;32m    310\u001b[0m                                                     \u001b[0mself\u001b[0m\u001b[0;34m.\u001b[0m\u001b[0muse_sample_weight\u001b[0m\u001b[0;34m,\u001b[0m \u001b[0mself\u001b[0m\u001b[0;34m.\u001b[0m\u001b[0mnormalized_feature\u001b[0m\u001b[0;34m,\u001b[0m \u001b[0mself\u001b[0m\u001b[0;34m.\u001b[0m\u001b[0mfeature_names_to_normalize\u001b[0m\u001b[0;34m,\u001b[0m\u001b[0;34m\u001b[0m\u001b[0;34m\u001b[0m\u001b[0m\n\u001b[1;32m    311\u001b[0m                                                     \u001b[0mfeature_names\u001b[0m\u001b[0;34m=\u001b[0m\u001b[0mself\u001b[0m\u001b[0;34m.\u001b[0m\u001b[0mfeature_names\u001b[0m\u001b[0;34m,\u001b[0m \u001b[0mcompute_permutation_importance\u001b[0m\u001b[0;34m=\u001b[0m\u001b[0mself\u001b[0m\u001b[0;34m.\u001b[0m\u001b[0mcompute_permutation_importance\u001b[0m\u001b[0;34m,\u001b[0m\u001b[0;34m\u001b[0m\u001b[0;34m\u001b[0m\u001b[0m\n\u001b[0;32m--> 312\u001b[0;31m                                                     save_regressor=self.save_regressor, save_info=save_info, save_dir=save_dir)\n\u001b[0m\u001b[1;32m    313\u001b[0m                 \u001b[0mfold_index\u001b[0m \u001b[0;34m=\u001b[0m \u001b[0;32mNone\u001b[0m\u001b[0;34m\u001b[0m\u001b[0;34m\u001b[0m\u001b[0m\n\u001b[1;32m    314\u001b[0m \u001b[0;34m\u001b[0m\u001b[0m\n",
      "\u001b[0;31mNameError\u001b[0m: name 'F' is not defined"
     ]
    }
   ],
   "source": [
    "regressor = Regressor(dataframe, engine='LINEAR', compute_permutation_importance=True, overwrite_regression=True, n_jobs=6, seed=123, save_regressor=False, use_kfold=False)\n",
    "print(\" \")\n",
    "\n",
    "regressor.make_regression()\n",
    "print(\" \")\n",
    "\n",
    "w_sys = regressor.build_w_sys_map(savemap=False, savedir=param['output_dir'])\n",
    "print(\" \")"
   ]
  },
  {
   "cell_type": "code",
   "execution_count": null,
   "metadata": {},
   "outputs": [],
   "source": []
  },
  {
   "cell_type": "code",
   "execution_count": null,
   "metadata": {},
   "outputs": [],
   "source": [
    "if not param['output_dir'] is None:\n",
    "    regressor.plot_maps_and_systematics(max_plot_cart=400)\n",
    "    print(\" \")"
   ]
  },
  {
   "cell_type": "code",
   "execution_count": null,
   "metadata": {},
   "outputs": [],
   "source": [
    "#    logger.info('Load precompute systematic weights and compare the current computation')\n",
    "#    w_sys_test = np.load(os.path.join(param['data_dir'], 'SV3_QSO_imaging_weight_256.npy'))\n",
    "#    mask = ~np.isnan(w_sys)\n",
    "#    assert np.allclose(w_sys[mask], w_sys_test[mask]), \"The computation of systematic weights in test case gives bad result, please do not change any parameter in tests.py\"\n",
    "#    logger.info('Test is complete without any error :) !')"
   ]
  },
  {
   "cell_type": "code",
   "execution_count": null,
   "metadata": {},
   "outputs": [],
   "source": []
  },
  {
   "cell_type": "code",
   "execution_count": null,
   "metadata": {},
   "outputs": [],
   "source": []
  },
  {
   "cell_type": "code",
   "execution_count": null,
   "metadata": {},
   "outputs": [],
   "source": []
  }
 ],
 "metadata": {
  "kernelspec": {
   "display_name": "desi_py3",
   "language": "python",
   "name": "desi_py3"
  },
  "language_info": {
   "codemirror_mode": {
    "name": "ipython",
    "version": 3
   },
   "file_extension": ".py",
   "mimetype": "text/x-python",
   "name": "python",
   "nbconvert_exporter": "python",
   "pygments_lexer": "ipython3",
   "version": "3.6.10"
  }
 },
 "nbformat": 4,
 "nbformat_minor": 4
}
