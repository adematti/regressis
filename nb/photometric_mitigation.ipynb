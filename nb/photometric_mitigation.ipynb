{
 "cells": [
  {
   "cell_type": "markdown",
   "metadata": {},
   "source": [
    "# Imaging systematic mitigation: the QSO case\n",
    "\n",
    "**author:** Edmond Chaussidon (CEA Saclay)\n",
    "\n",
    "**mail:** edmond.chaussidon@cea.fr\n",
    "\n"
   ]
  },
  {
   "cell_type": "code",
   "execution_count": 1,
   "metadata": {},
   "outputs": [],
   "source": [
    "import os\n",
    "import logging\n",
    "\n",
    "import numpy as np\n",
    "\n",
    "from regressis import PhotometricDataFrame, Regression, DR9Footprint, setup_logging"
   ]
  },
  {
   "cell_type": "code",
   "execution_count": 2,
   "metadata": {},
   "outputs": [],
   "source": [
    "logger = logging.getLogger('Notebook')\n",
    "setup_logging()"
   ]
  },
  {
   "cell_type": "code",
   "execution_count": 3,
   "metadata": {},
   "outputs": [
    {
     "name": "stdout",
     "output_type": "stream",
     "text": [
      "[000000.01] 22-01-04 17:44  Footprint            INFO     Load DR9 footprint with mask_lmc=True, clear_south=True, mask_around_des=True and cut_desi=False\n",
      "[000000.05] 22-01-04 17:44  DataFrame            INFO     version: SV3 -- tracer: QSO -- regions: ['North', 'South', 'Des']\n",
      "[000000.05] 22-01-04 17:44  Notebook             INFO     Features\n",
      "[000000.05] 22-01-04 17:44  DataFrame            INFO     Read ../regressis/tests/test_case_qso/pixweight-dr9-256.fits\n",
      "[000000.47] 22-01-04 17:44  DataFrame            INFO     Read ../regressis/tests/test_case_qso/sagittarius_stream_256.npy\n",
      "[000000.52] 22-01-04 17:44  DataFrame            INFO     Sanity check: number of NaNs in features: 0\n",
      "[000000.52] 22-01-04 17:44  Notebook             INFO     Targets\n",
      "[000000.52] 22-01-04 17:44  DataFrame            INFO     Read ../regressis/tests/test_case_qso/SV3_QSO_256.npy\n",
      "[000000.52] 22-01-04 17:44  DataFrame            INFO     Do not find corresponding fracarea map --> use FRACAREA_12290 as default fracarea\n",
      "[000000.52] 22-01-04 17:44  DataFrame            INFO     Read ../regressis/tests/test_case_qso/pixweight-dr9-256.fits\n",
      "[000000.58] 22-01-04 17:44  Notebook             INFO     Build\n",
      "[000001.43] 22-01-04 17:44  DataFrame            INFO     The considered footprint represents 100.00% of the DR9 footprint\n",
      "[000001.44] 22-01-04 17:44  DataFrame            INFO     They are 9069 pixels which will be not used for the training i.e. 2.47% of the considered footprint\n",
      "[000002.50] 22-01-04 17:44  Footprint            INFO     Use (R.A., Dec.) box: [120, 240, 32.2, 40] to compute mean density\n",
      "[000002.61] 22-01-04 17:44  DataFrame            INFO       ** North: 16.02 -- 1.0000 -- 1.0623\n",
      "[000003.95] 22-01-04 17:45  Footprint            INFO     Use (R.A., Dec.) box: [120, 240, 24, 32.2] to compute mean density\n",
      "[000004.02] 22-01-04 17:45  DataFrame            INFO       ** South: 16.08 -- 1.0000 -- 1.0301\n",
      "[000005.08] 22-01-04 17:45  Footprint            INFO     No restriction to compute mean density\n",
      "[000005.09] 22-01-04 17:45  DataFrame            INFO       ** Des: 15.32 -- 1.0000 -- 1.0000\n"
     ]
    }
   ],
   "source": [
    "version, tracer, suffix_tracer = 'SV3', 'QSO', ''\n",
    "dr9_footprint = DR9Footprint(256, mask_lmc=True, clear_south=True, mask_around_des=True, cut_desi=False)\n",
    "\n",
    "params = dict()\n",
    "params['data_dir'] = '../regressis/tests/test_case_qso'\n",
    "params['output_dir'] = None\n",
    "params['use_median'] = False\n",
    "params['use_new_norm'] = True\n",
    "params['regions'] = ['North', 'South', 'Des']\n",
    "\n",
    "dataframe = PhotometricDataFrame(version, tracer, dr9_footprint, suffix_tracer, **params)\n",
    "logger.info('Features')\n",
    "dataframe.set_features()\n",
    "logger.info('Targets')\n",
    "dataframe.set_targets()\n",
    "logger.info('Build')\n",
    "dataframe.build(cut_fracarea=True)"
   ]
  },
  {
   "cell_type": "code",
   "execution_count": 4,
   "metadata": {},
   "outputs": [
    {
     "name": "stdout",
     "output_type": "stream",
     "text": [
      "[000005.10] 22-01-04 17:45  Regression           INFO     We use the set of features: ['STARDENS', 'EBV', 'STREAM', 'PSFDEPTH_G', 'PSFDEPTH_R', 'PSFDEPTH_Z', 'PSFDEPTH_W1', 'PSFDEPTH_W2', 'PSFSIZE_G', 'PSFSIZE_R', 'PSFSIZE_Z']\n",
      "[000005.10] 22-01-04 17:45  Regression           WARNING  k-fold training not used\n",
      "[000006.17] 22-01-04 17:45  Regression           INFO       ** North :\n",
      "[000006.21] 22-01-04 17:45  Regression           INFO         --> Sample size North: 96329 -- Total sample size: 358139 -- Training fraction: 26.90%\n",
      "[000006.21] 22-01-04 17:45  Regression           INFO         --> Use k-fold training ? False\n",
      "[000006.21] 22-01-04 17:45  Regression           INFO         --> Engine: LINEAR with params: {}\n",
      "[000006.22] 22-01-04 17:45  Regression           INFO               --> All features (except the STREAM) are normalized and centered on the training footprint\n",
      "[000006.29] 22-01-04 17:45  Regression           INFO               --> Mean of mean and std on the fold-training features: -0.0000 -- 1.00\n",
      "[000006.29] 22-01-04 17:45  Regression           INFO               --> The training is done with sample_weight = 1/np.sqrt(Y_train)\n",
      "[000007.35] 22-01-04 17:45  Regression           INFO       ** South :\n",
      "[000007.38] 22-01-04 17:45  Regression           INFO         --> Sample size South: 175088 -- Total sample size: 358139 -- Training fraction: 48.89%\n",
      "[000007.38] 22-01-04 17:45  Regression           INFO         --> Use k-fold training ? False\n",
      "[000007.38] 22-01-04 17:45  Regression           INFO         --> Engine: LINEAR with params: {}\n",
      "[000007.40] 22-01-04 17:45  Regression           INFO               --> All features (except the STREAM) are normalized and centered on the training footprint\n",
      "[000007.50] 22-01-04 17:45  Regression           INFO               --> Mean of mean and std on the fold-training features: 0.0000 -- 1.00\n",
      "[000007.50] 22-01-04 17:45  Regression           INFO               --> The training is done with sample_weight = 1/np.sqrt(Y_train)\n",
      "[000008.84] 22-01-04 17:45  Regression           INFO       ** Des :\n",
      "[000008.90] 22-01-04 17:45  Regression           INFO         --> Sample size Des: 86722 -- Total sample size: 358139 -- Training fraction: 24.21%\n",
      "[000008.91] 22-01-04 17:45  Regression           INFO         --> Use k-fold training ? False\n",
      "[000008.91] 22-01-04 17:45  Regression           INFO         --> Engine: LINEAR with params: {}\n",
      "[000008.92] 22-01-04 17:45  Regression           INFO               --> All features (except the STREAM) are normalized and centered on the training footprint\n",
      "[000009.04] 22-01-04 17:45  Regression           INFO               --> Mean of mean and std on the fold-training features: 0.0000 -- 1.00\n",
      "[000009.04] 22-01-04 17:45  Regression           INFO               --> The training is done with sample_weight = 1/np.sqrt(Y_train)\n"
     ]
    }
   ],
   "source": [
    "regression = Regression(dataframe, regressor='LINEAR', compute_permutation_importance=True, overwrite=True, n_jobs=6, seed=123, save_regressor=False, use_kfold=False)\n",
    "wsys = regression.get_weight_map(save=False, savedir=params['output_dir'])"
   ]
  },
  {
   "cell_type": "code",
   "execution_count": 5,
   "metadata": {},
   "outputs": [
    {
     "ename": "SyntaxError",
     "evalue": "invalid syntax (<ipython-input-5-7b2d227e6c98>, line 1)",
     "output_type": "error",
     "traceback": [
      "\u001b[0;36m  File \u001b[0;32m\"<ipython-input-5-7b2d227e6c98>\"\u001b[0;36m, line \u001b[0;32m1\u001b[0m\n\u001b[0;31m    regression.plot_maps_and_systematics(max_plot_cart=400) --> il faut reussir a afficher les cartes --< mettre l'option show dans le code :)\u001b[0m\n\u001b[0m                                                             ^\u001b[0m\n\u001b[0;31mSyntaxError\u001b[0m\u001b[0;31m:\u001b[0m invalid syntax\n"
     ]
    }
   ],
   "source": [
    "regression.plot_maps_and_systematics(max_plot_cart=400, cut_fracarea=False, show=True, save=False) --> il faut reussir a afficher les cartes --< mettre l'option show dans le code :)"
   ]
  },
  {
   "cell_type": "code",
   "execution_count": null,
   "metadata": {},
   "outputs": [],
   "source": [
    "if params.get('output_dir', None) is not None:\n",
    "    print(\" \")"
   ]
  },
  {
   "cell_type": "code",
   "execution_count": null,
   "metadata": {},
   "outputs": [],
   "source": [
    "#    logger.info('Load precompute systematic weights and compare the current computation')\n",
    "#    w_sys_test = np.load(os.path.join(param['data_dir'], 'SV3_QSO_imaging_weight_256.npy'))\n",
    "#    mask = ~np.isnan(w_sys)\n",
    "#    assert np.allclose(w_sys[mask], w_sys_test[mask]), \"The computation of systematic weights in test case gives bad result, please do not change any parameter in tests.py\"\n",
    "#    logger.info('Test is complete without any error :) !')"
   ]
  },
  {
   "cell_type": "code",
   "execution_count": null,
   "metadata": {},
   "outputs": [],
   "source": [
    "il faut faire un notebook qui reprend l'exemple facile --> QSO main par exemple\n",
    "\n",
    "qui montre comment on utilise pas les etoiles ec ...\n",
    "\n",
    "+ afficher les dessins jolies\n",
    "\n",
    "+ montrer comment on fait pour recuperer les poids a prtir d'un catalog grace au ra, dec --> mettre le code dans regressis\n",
    "\n",
    "+ mettre le style matplotlib qui va vbien !!\n",
    "\n",
    "--> dire attention au poids des fichiers !\n"
   ]
  }
 ],
 "metadata": {
  "kernelspec": {
   "display_name": "Python 3",
   "language": "python",
   "name": "python3"
  },
  "language_info": {
   "codemirror_mode": {
    "name": "ipython",
    "version": 3
   },
   "file_extension": ".py",
   "mimetype": "text/x-python",
   "name": "python",
   "nbconvert_exporter": "python",
   "pygments_lexer": "ipython3",
   "version": "3.8.8"
  }
 },
 "nbformat": 4,
 "nbformat_minor": 4
}
